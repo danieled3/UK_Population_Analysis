{
 "cells": [
  {
   "cell_type": "markdown",
   "metadata": {},
   "source": [
    "# Study of UK population dynamics\n",
    "\n",
    "## Introduction\n",
    "In this document I will analyze  evolution of UK population accross:\n",
    "* Time\n",
    "* Region\n",
    "* Gender\n",
    "* Age\n",
    "\n",
    "## Data Loading\n",
    "First of all, I trasform data collected from the given url into a \"tidy\" dataframe where\n",
    "* Each variable forms a column\n",
    "* Each observation forms a row\n",
    "* Each measure forms a dataframe\n",
    "* There is not \"Total\" element and dimensions elements are partition of the total\n"
   ]
  },
  {
   "cell_type": "code",
   "execution_count": 1,
   "metadata": {},
   "outputs": [],
   "source": [
    "import requests\n",
    "import json\n",
    "import pandas as pd\n",
    "import numpy as np\n",
    "import matplotlib.pyplot as plt"
   ]
  },
  {
   "cell_type": "code",
   "execution_count": 2,
   "metadata": {},
   "outputs": [],
   "source": [
    "url=\"https://www.nomisweb.co.uk/api/v01/dataset/NM_31_1.jsonstat.json\"\n",
    "r = requests.get(url)\n",
    "data_json = json.loads(r.content.decode())\n",
    "size=data_json['size']  "
   ]
  },
  {
   "cell_type": "code",
   "execution_count": 3,
   "metadata": {},
   "outputs": [],
   "source": [
    "#initialize empty columns\n",
    "time=[]\n",
    "region=[]\n",
    "gender=[]\n",
    "age=[]\n",
    "meas=[]"
   ]
  },
  {
   "cell_type": "code",
   "execution_count": 4,
   "metadata": {},
   "outputs": [],
   "source": [
    "# create every column separately to have better performances\n",
    "for time_index in range(size[0]):\n",
    "    time=time+[list(data_json['dimension']['time']['category']['label'].\n",
    "                    values())[time_index]]*size[1]*size[2]*size[3]*size[4]\n",
    "    for geo_index in range(size[1]):\n",
    "        region=region+[list(data_json['dimension']['geography']['category']['label'].\n",
    "                            values())[geo_index]]*size[2]*size[3]*size[4]\n",
    "        for sex_index in range(size[2]):\n",
    "            gender=gender+[list(data_json['dimension']['sex']['category']['label'].\n",
    "                                values())[sex_index]]*size[3]*size[4]\n",
    "            for age_index in range(size[3]):\n",
    "                age=age+[list(data_json['dimension']['age']['category']['label'].\n",
    "                              values())[age_index]]*size[4]\n",
    "                for meas_index in range(size[4]):\n",
    "                    meas=meas+[list(data_json['dimension']['measures']['category']\n",
    "                                    ['label'].values())[meas_index]]"
   ]
  },
  {
   "cell_type": "code",
   "execution_count": 5,
   "metadata": {},
   "outputs": [],
   "source": [
    "#create the complete DataFrame from json\n",
    "data_df=pd.DataFrame(\n",
    "    {'Year':time,\n",
    "     'Region':region,\n",
    "     'Gender':gender,\n",
    "     'Age':age,\n",
    "     'Measure':meas,\n",
    "     'Value':data_json['value']}\n",
    ")"
   ]
  },
  {
   "cell_type": "code",
   "execution_count": 6,
   "metadata": {},
   "outputs": [
    {
     "data": {
      "text/html": [
       "<div>\n",
       "<style scoped>\n",
       "    .dataframe tbody tr th:only-of-type {\n",
       "        vertical-align: middle;\n",
       "    }\n",
       "\n",
       "    .dataframe tbody tr th {\n",
       "        vertical-align: top;\n",
       "    }\n",
       "\n",
       "    .dataframe thead th {\n",
       "        text-align: right;\n",
       "    }\n",
       "</style>\n",
       "<table border=\"1\" class=\"dataframe\">\n",
       "  <thead>\n",
       "    <tr style=\"text-align: right;\">\n",
       "      <th></th>\n",
       "      <th>Year</th>\n",
       "      <th>Region</th>\n",
       "      <th>Gender</th>\n",
       "      <th>Age</th>\n",
       "      <th>Value</th>\n",
       "    </tr>\n",
       "  </thead>\n",
       "  <tbody>\n",
       "    <tr>\n",
       "      <th>2</th>\n",
       "      <td>1981</td>\n",
       "      <td>Wales</td>\n",
       "      <td>Male</td>\n",
       "      <td>Aged 0-24</td>\n",
       "      <td>18300</td>\n",
       "    </tr>\n",
       "    <tr>\n",
       "      <th>4</th>\n",
       "      <td>1981</td>\n",
       "      <td>Wales</td>\n",
       "      <td>Male</td>\n",
       "      <td>Aged 0-24</td>\n",
       "      <td>70200</td>\n",
       "    </tr>\n",
       "    <tr>\n",
       "      <th>6</th>\n",
       "      <td>1981</td>\n",
       "      <td>Wales</td>\n",
       "      <td>Male</td>\n",
       "      <td>Aged 0-24</td>\n",
       "      <td>95300</td>\n",
       "    </tr>\n",
       "    <tr>\n",
       "      <th>8</th>\n",
       "      <td>1981</td>\n",
       "      <td>Wales</td>\n",
       "      <td>Male</td>\n",
       "      <td>Aged 0-24</td>\n",
       "      <td>113500</td>\n",
       "    </tr>\n",
       "    <tr>\n",
       "      <th>10</th>\n",
       "      <td>1981</td>\n",
       "      <td>Wales</td>\n",
       "      <td>Male</td>\n",
       "      <td>Aged 0-24</td>\n",
       "      <td>118700</td>\n",
       "    </tr>\n",
       "  </tbody>\n",
       "</table>\n",
       "</div>"
      ],
      "text/plain": [
       "    Year Region Gender        Age   Value\n",
       "2   1981  Wales   Male  Aged 0-24   18300\n",
       "4   1981  Wales   Male  Aged 0-24   70200\n",
       "6   1981  Wales   Male  Aged 0-24   95300\n",
       "8   1981  Wales   Male  Aged 0-24  113500\n",
       "10  1981  Wales   Male  Aged 0-24  118700"
      ]
     },
     "execution_count": 6,
     "metadata": {},
     "output_type": "execute_result"
    }
   ],
   "source": [
    "#delete \"Total\" values and all elements that \n",
    "#do not create a partition like \"Aged 16 - 59/64\"\n",
    "df_stage1=data_df[\n",
    "    (data_df.Age!=\"All ages\") & \n",
    "    (data_df.Age!=\"Aged 16 - 59/64\") &\n",
    "    (data_df.Age!=\"Aged 18 - 24\") &\n",
    "    (data_df.Age!=\"Aged 16 - 64\") &\n",
    "    (data_df.Age!=\"Aged 0 - 15\") &\n",
    "    (data_df.Age!=\"Aged 65 and over\") &\n",
    "    (data_df.Gender!=\"Total\") &\n",
    "    (data_df.Measure==\"Value\")\n",
    "][['Year','Region','Gender','Age','Value']]\n",
    "df_stage1=df_stage1.dropna() #remove NAN rows of NI from 1981 to 1991\n",
    "df_stage1['Value']=df_stage1['Value'].astype(int)\n",
    "df_stage1['Year']=df_stage1['Year'].astype(int)\n",
    "\n",
    "#create the England data by subtracting \"Wales\" from \"England and Wales\"\n",
    "df_wales=df_stage1[df_stage1.Region==\"Wales\"]\n",
    "df_engl_wales=df_stage1[df_stage1.Region==\"England and Wales\"]\n",
    "df_engl=pd.merge(df_wales,df_engl_wales,on=[\"Year\",\"Gender\",\"Age\"],how=\"inner\")\n",
    "df_engl['Value']=df_engl[\"Value_y\"]-df_engl[\"Value_x\"]\n",
    "df_engl[\"Region\"]=\"England\"\n",
    "df_engl=df_engl[[\"Year\",\"Region\",\"Gender\",\"Age\",\"Value\"]]\n",
    "df_pop=pd.concat([df_stage1[df_stage1.Region!=\"England and Wales\"],df_engl])\n",
    "\n",
    "#new age binning\n",
    "df_pop=df_pop.replace(df_pop.Age.unique(),\n",
    "                      [\"Aged 0-24\"]*6+[\"Aged 25-50\"]*5+\n",
    "                      [\"Aged 51-74\"]*5+[\"Aged 75+\"]*3\n",
    "                     )\n",
    "df_pop.head()"
   ]
  },
  {
   "cell_type": "markdown",
   "metadata": {},
   "source": [
    "## Data Exploration\n",
    "Starting from the created dataframe, I study the population progression by the following dimensions:\n",
    "* Number of people\n",
    "* Geographic distribution\n",
    "* Age distribution\n",
    "### Table with gender distribution in the last year\n",
    "As requested I created a dataframe showing male, female and total population in columns, per UK region in rows, as\n",
    "well as the UK total, for the most recent year."
   ]
  },
  {
   "cell_type": "code",
   "execution_count": 8,
   "metadata": {},
   "outputs": [
    {
     "data": {
      "text/html": [
       "<div>\n",
       "<style scoped>\n",
       "    .dataframe tbody tr th:only-of-type {\n",
       "        vertical-align: middle;\n",
       "    }\n",
       "\n",
       "    .dataframe tbody tr th {\n",
       "        vertical-align: top;\n",
       "    }\n",
       "\n",
       "    .dataframe thead th {\n",
       "        text-align: right;\n",
       "    }\n",
       "</style>\n",
       "<table border=\"1\" class=\"dataframe\">\n",
       "  <thead>\n",
       "    <tr style=\"text-align: right;\">\n",
       "      <th>Gender</th>\n",
       "      <th>Female</th>\n",
       "      <th>Male</th>\n",
       "      <th>All</th>\n",
       "    </tr>\n",
       "    <tr>\n",
       "      <th>Region</th>\n",
       "      <th></th>\n",
       "      <th></th>\n",
       "      <th></th>\n",
       "    </tr>\n",
       "  </thead>\n",
       "  <tbody>\n",
       "    <tr>\n",
       "      <th>England</th>\n",
       "      <td>28138500</td>\n",
       "      <td>27481400</td>\n",
       "      <td>55619900</td>\n",
       "    </tr>\n",
       "    <tr>\n",
       "      <th>Northern Ireland</th>\n",
       "      <td>950500</td>\n",
       "      <td>920400</td>\n",
       "      <td>1870900</td>\n",
       "    </tr>\n",
       "    <tr>\n",
       "      <th>Scotland</th>\n",
       "      <td>2784800</td>\n",
       "      <td>2640400</td>\n",
       "      <td>5425200</td>\n",
       "    </tr>\n",
       "    <tr>\n",
       "      <th>Wales</th>\n",
       "      <td>1584900</td>\n",
       "      <td>1540100</td>\n",
       "      <td>3125000</td>\n",
       "    </tr>\n",
       "    <tr>\n",
       "      <th>All</th>\n",
       "      <td>33458700</td>\n",
       "      <td>32582300</td>\n",
       "      <td>66041000</td>\n",
       "    </tr>\n",
       "  </tbody>\n",
       "</table>\n",
       "</div>"
      ],
      "text/plain": [
       "Gender              Female      Male       All\n",
       "Region                                        \n",
       "England           28138500  27481400  55619900\n",
       "Northern Ireland    950500    920400   1870900\n",
       "Scotland           2784800   2640400   5425200\n",
       "Wales              1584900   1540100   3125000\n",
       "All               33458700  32582300  66041000"
      ]
     },
     "execution_count": 8,
     "metadata": {},
     "output_type": "execute_result"
    }
   ],
   "source": [
    "most_recent_year=df_pop.Year.max() #compute the most recent year\n",
    "df_pop_ry=df_pop[df_pop.Year==most_recent_year].groupby(\n",
    "    ['Region','Gender']).sum().reset_index()\n",
    "df_pop_ry=df_pop_ry.pivot_table(\n",
    "    index='Region', columns='Gender', values='Value',aggfunc='sum',margins=True)\n",
    "df_pop_ry"
   ]
  },
  {
   "cell_type": "markdown",
   "metadata": {},
   "source": [
    "### Number of people analysis\n",
    "I analize the number of people trend from 1991 to 2017 because we do not have data of Northern Ireland before 1991."
   ]
  },
  {
   "cell_type": "code",
   "execution_count": 9,
   "metadata": {},
   "outputs": [
    {
     "data": {
      "text/html": [
       "<div>\n",
       "<style scoped>\n",
       "    .dataframe tbody tr th:only-of-type {\n",
       "        vertical-align: middle;\n",
       "    }\n",
       "\n",
       "    .dataframe tbody tr th {\n",
       "        vertical-align: top;\n",
       "    }\n",
       "\n",
       "    .dataframe thead th {\n",
       "        text-align: right;\n",
       "    }\n",
       "</style>\n",
       "<table border=\"1\" class=\"dataframe\">\n",
       "  <thead>\n",
       "    <tr style=\"text-align: right;\">\n",
       "      <th>Region</th>\n",
       "      <th>England</th>\n",
       "      <th>Northern Ireland</th>\n",
       "      <th>Scotland</th>\n",
       "      <th>Wales</th>\n",
       "    </tr>\n",
       "    <tr>\n",
       "      <th>Year</th>\n",
       "      <th></th>\n",
       "      <th></th>\n",
       "      <th></th>\n",
       "      <th></th>\n",
       "    </tr>\n",
       "  </thead>\n",
       "  <tbody>\n",
       "    <tr>\n",
       "      <th>1992</th>\n",
       "      <td>47998000</td>\n",
       "      <td>1623400</td>\n",
       "      <td>5085500</td>\n",
       "      <td>2877500</td>\n",
       "    </tr>\n",
       "    <tr>\n",
       "      <th>1993</th>\n",
       "      <td>48102700</td>\n",
       "      <td>1635800</td>\n",
       "      <td>5092400</td>\n",
       "      <td>2883400</td>\n",
       "    </tr>\n",
       "    <tr>\n",
       "      <th>1994</th>\n",
       "      <td>48228700</td>\n",
       "      <td>1643500</td>\n",
       "      <td>5102400</td>\n",
       "      <td>2887600</td>\n",
       "    </tr>\n",
       "    <tr>\n",
       "      <th>1995</th>\n",
       "      <td>48383400</td>\n",
       "      <td>1649100</td>\n",
       "      <td>5104000</td>\n",
       "      <td>2888600</td>\n",
       "    </tr>\n",
       "    <tr>\n",
       "      <th>1996</th>\n",
       "      <td>48519100</td>\n",
       "      <td>1661800</td>\n",
       "      <td>5092400</td>\n",
       "      <td>2891200</td>\n",
       "    </tr>\n",
       "  </tbody>\n",
       "</table>\n",
       "</div>"
      ],
      "text/plain": [
       "Region   England  Northern Ireland  Scotland    Wales\n",
       "Year                                                 \n",
       "1992    47998000           1623400   5085500  2877500\n",
       "1993    48102700           1635800   5092400  2883400\n",
       "1994    48228700           1643500   5102400  2887600\n",
       "1995    48383400           1649100   5104000  2888600\n",
       "1996    48519100           1661800   5092400  2891200"
      ]
     },
     "execution_count": 9,
     "metadata": {},
     "output_type": "execute_result"
    }
   ],
   "source": [
    "df_pop_np=df_pop[df_pop.Year>1991].groupby(\n",
    "    ['Year','Region']).sum().reset_index()\n",
    "df_pop_np=df_pop_np.pivot_table(\n",
    "    index='Year',columns='Region', values='Value',aggfunc='sum',margins=False)\n",
    "df_pop_np.head()"
   ]
  },
  {
   "cell_type": "code",
   "execution_count": 10,
   "metadata": {},
   "outputs": [
    {
     "data": {
      "text/plain": [
       "467180.0"
      ]
     },
     "execution_count": 10,
     "metadata": {},
     "output_type": "execute_result"
    }
   ],
   "source": [
    "pop_increase_rate=(df_pop_np.sum(axis=1)[2017]-df_pop_np.sum(axis=1)[2012])/5\n",
    "pop_increase_rate"
   ]
  },
  {
   "cell_type": "code",
   "execution_count": 11,
   "metadata": {},
   "outputs": [
    {
     "data": {
      "image/png": "[encoded data removed]",
      "text/plain": [
       "<Figure size 432x288 with 1 Axes>"
      ]
     },
     "metadata": {
      "needs_background": "light"
     },
     "output_type": "display_data"
    }
   ],
   "source": [
    "df_pop_np.plot(kind=\"area\")\n",
    "plt.ylabel(\"Number of People\")\n",
    "plt.title(\"UK Population Trend\")\n",
    "plt.ylim([40000000,70000000])\n",
    "plt.grid()\n",
    "plt.savefig('np.png')"
   ]
  },
  {
   "cell_type": "markdown",
   "metadata": {},
   "source": [
    "### Region analysis\n",
    "I analize the percentage of people in each region from 1991 to 2017."
   ]
  },
  {
   "cell_type": "code",
   "execution_count": 12,
   "metadata": {},
   "outputs": [
    {
     "data": {
      "text/html": [
       "<div>\n",
       "<style scoped>\n",
       "    .dataframe tbody tr th:only-of-type {\n",
       "        vertical-align: middle;\n",
       "    }\n",
       "\n",
       "    .dataframe tbody tr th {\n",
       "        vertical-align: top;\n",
       "    }\n",
       "\n",
       "    .dataframe thead th {\n",
       "        text-align: right;\n",
       "    }\n",
       "</style>\n",
       "<table border=\"1\" class=\"dataframe\">\n",
       "  <thead>\n",
       "    <tr style=\"text-align: right;\">\n",
       "      <th>Region</th>\n",
       "      <th>England</th>\n",
       "      <th>Northern Ireland</th>\n",
       "      <th>Scotland</th>\n",
       "      <th>Wales</th>\n",
       "    </tr>\n",
       "    <tr>\n",
       "      <th>Year</th>\n",
       "      <th></th>\n",
       "      <th></th>\n",
       "      <th></th>\n",
       "      <th></th>\n",
       "    </tr>\n",
       "  </thead>\n",
       "  <tbody>\n",
       "    <tr>\n",
       "      <th>1992</th>\n",
       "      <td>83.352436</td>\n",
       "      <td>2.819166</td>\n",
       "      <td>8.831385</td>\n",
       "      <td>4.997013</td>\n",
       "    </tr>\n",
       "    <tr>\n",
       "      <th>1993</th>\n",
       "      <td>83.346242</td>\n",
       "      <td>2.834306</td>\n",
       "      <td>8.823463</td>\n",
       "      <td>4.995989</td>\n",
       "    </tr>\n",
       "    <tr>\n",
       "      <th>1994</th>\n",
       "      <td>83.350961</td>\n",
       "      <td>2.840369</td>\n",
       "      <td>8.818192</td>\n",
       "      <td>4.990477</td>\n",
       "    </tr>\n",
       "    <tr>\n",
       "      <th>1995</th>\n",
       "      <td>83.383570</td>\n",
       "      <td>2.842046</td>\n",
       "      <td>8.796193</td>\n",
       "      <td>4.978190</td>\n",
       "    </tr>\n",
       "    <tr>\n",
       "      <th>1996</th>\n",
       "      <td>83.417033</td>\n",
       "      <td>2.857069</td>\n",
       "      <td>8.755169</td>\n",
       "      <td>4.970730</td>\n",
       "    </tr>\n",
       "  </tbody>\n",
       "</table>\n",
       "</div>"
      ],
      "text/plain": [
       "Region    England  Northern Ireland  Scotland     Wales\n",
       "Year                                                   \n",
       "1992    83.352436          2.819166  8.831385  4.997013\n",
       "1993    83.346242          2.834306  8.823463  4.995989\n",
       "1994    83.350961          2.840369  8.818192  4.990477\n",
       "1995    83.383570          2.842046  8.796193  4.978190\n",
       "1996    83.417033          2.857069  8.755169  4.970730"
      ]
     },
     "execution_count": 12,
     "metadata": {},
     "output_type": "execute_result"
    }
   ],
   "source": [
    "df_pop_reg=pd.merge(\n",
    "    df_pop[df_pop.Year>1991].groupby(['Year','Region']).sum().reset_index(),\n",
    "    df_pop[df_pop.Year>1991].groupby(['Year']).sum().reset_index(),\n",
    "    on='Year',\n",
    "    how='inner'\n",
    ")\n",
    "df_pop_reg['Percentage']=df_pop_reg.Value_x/df_pop_reg.Value_y*100\n",
    "df_pop_reg=df_pop_reg.pivot_table(\n",
    "    index='Year',columns='Region', values='Percentage',aggfunc='sum',margins=False)\n",
    "df_pop_reg.head()\n"
   ]
  },
  {
   "cell_type": "code",
   "execution_count": 13,
   "metadata": {},
   "outputs": [
    {
     "data": {
      "image/png": "[encoded data removed]",
      "text/plain": [
       "<Figure size 432x288 with 1 Axes>"
      ]
     },
     "metadata": {
      "needs_background": "light"
     },
     "output_type": "display_data"
    }
   ],
   "source": [
    "df_pop_reg['England'].plot(kind=\"line\",color=\"blue\")\n",
    "plt.ylabel(\"% on Total population\")\n",
    "plt.title(\"Trend of Percentage Population of England\")\n",
    "plt.ylim([83.3,84.3]) #same scale for every chart (1%)\n",
    "plt.grid()\n",
    "plt.savefig('reg1.png')"
   ]
  },
  {
   "cell_type": "code",
   "execution_count": 14,
   "metadata": {},
   "outputs": [
    {
     "data": {
      "image/png": "[encoded data removed]",
      "text/plain": [
       "<Figure size 432x288 with 1 Axes>"
      ]
     },
     "metadata": {
      "needs_background": "light"
     },
     "output_type": "display_data"
    }
   ],
   "source": [
    "df_pop_reg['Wales'].plot(kind=\"line\",color=\"red\")\n",
    "plt.ylabel(\"% on Total population\")\n",
    "plt.title(\"Trend of Percentage Population of Wales\")\n",
    "plt.ylim([4.4,5.4]) #same scale for every chart (1%)\n",
    "plt.grid()\n",
    "plt.savefig('reg2.png')"
   ]
  },
  {
   "cell_type": "code",
   "execution_count": 15,
   "metadata": {},
   "outputs": [
    {
     "data": {
      "image/png": "[encoded data removed]",
      "text/plain": [
       "<Figure size 432x288 with 1 Axes>"
      ]
     },
     "metadata": {
      "needs_background": "light"
     },
     "output_type": "display_data"
    }
   ],
   "source": [
    "df_pop_reg['Northern Ireland'].plot(kind=\"line\",color=\"orange\")\n",
    "plt.ylabel(\"% on Total population\")\n",
    "plt.title(\"Trend of Percentage Population of Northern Ireland\")\n",
    "plt.ylim([2.4,3.4]) #same scale for every chart (1%)\n",
    "plt.grid()\n",
    "plt.savefig('reg3.png')"
   ]
  },
  {
   "cell_type": "code",
   "execution_count": 16,
   "metadata": {},
   "outputs": [
    {
     "data": {
      "image/png": "[encoded data removed]",
      "text/plain": [
       "<Figure size 432x288 with 1 Axes>"
      ]
     },
     "metadata": {
      "needs_background": "light"
     },
     "output_type": "display_data"
    }
   ],
   "source": [
    "df_pop_reg['Scotland'].plot(kind=\"line\",color=\"green\")\n",
    "plt.ylabel(\"% on Total population\")\n",
    "plt.title(\"Trend of Percentage Population of Scotland\")\n",
    "plt.ylim([8,9]) #same scale for every chart (1%)\n",
    "plt.grid()\n",
    "plt.savefig('reg4.png')"
   ]
  },
  {
   "cell_type": "markdown",
   "metadata": {},
   "source": [
    "### Region analysis\n",
    "I analize the percentage of people in the group 0-25/ 25-50/ 50-75/ 75+ from 1991 to 2017."
   ]
  },
  {
   "cell_type": "code",
   "execution_count": 17,
   "metadata": {},
   "outputs": [
    {
     "data": {
      "text/html": [
       "<div>\n",
       "<style scoped>\n",
       "    .dataframe tbody tr th:only-of-type {\n",
       "        vertical-align: middle;\n",
       "    }\n",
       "\n",
       "    .dataframe tbody tr th {\n",
       "        vertical-align: top;\n",
       "    }\n",
       "\n",
       "    .dataframe thead th {\n",
       "        text-align: right;\n",
       "    }\n",
       "</style>\n",
       "<table border=\"1\" class=\"dataframe\">\n",
       "  <thead>\n",
       "    <tr style=\"text-align: right;\">\n",
       "      <th>Age</th>\n",
       "      <th>Aged 0-24</th>\n",
       "      <th>Aged 25-50</th>\n",
       "      <th>Aged 51-74</th>\n",
       "      <th>Aged 75+</th>\n",
       "    </tr>\n",
       "    <tr>\n",
       "      <th>Year</th>\n",
       "      <th></th>\n",
       "      <th></th>\n",
       "      <th></th>\n",
       "      <th></th>\n",
       "    </tr>\n",
       "  </thead>\n",
       "  <tbody>\n",
       "    <tr>\n",
       "      <th>1992</th>\n",
       "      <td>19026200</td>\n",
       "      <td>20579800</td>\n",
       "      <td>13982800</td>\n",
       "      <td>3995600</td>\n",
       "    </tr>\n",
       "    <tr>\n",
       "      <th>1993</th>\n",
       "      <td>18881400</td>\n",
       "      <td>20751500</td>\n",
       "      <td>14119700</td>\n",
       "      <td>3961700</td>\n",
       "    </tr>\n",
       "    <tr>\n",
       "      <th>1994</th>\n",
       "      <td>18753000</td>\n",
       "      <td>20910100</td>\n",
       "      <td>14272200</td>\n",
       "      <td>3926900</td>\n",
       "    </tr>\n",
       "    <tr>\n",
       "      <th>1995</th>\n",
       "      <td>18644300</td>\n",
       "      <td>21045000</td>\n",
       "      <td>14275700</td>\n",
       "      <td>4060100</td>\n",
       "    </tr>\n",
       "    <tr>\n",
       "      <th>1996</th>\n",
       "      <td>18513300</td>\n",
       "      <td>21178300</td>\n",
       "      <td>14316000</td>\n",
       "      <td>4156900</td>\n",
       "    </tr>\n",
       "  </tbody>\n",
       "</table>\n",
       "</div>"
      ],
      "text/plain": [
       "Age   Aged 0-24  Aged 25-50  Aged 51-74  Aged 75+\n",
       "Year                                             \n",
       "1992   19026200    20579800    13982800   3995600\n",
       "1993   18881400    20751500    14119700   3961700\n",
       "1994   18753000    20910100    14272200   3926900\n",
       "1995   18644300    21045000    14275700   4060100\n",
       "1996   18513300    21178300    14316000   4156900"
      ]
     },
     "execution_count": 17,
     "metadata": {},
     "output_type": "execute_result"
    }
   ],
   "source": [
    "df_pop_age_abs=df_pop[df_pop.Year>1991].pivot_table(\n",
    "    index='Year',columns='Age', values='Value',aggfunc='sum',margins=False)\n",
    "df_pop_age_abs.head()"
   ]
  },
  {
   "cell_type": "code",
   "execution_count": 18,
   "metadata": {},
   "outputs": [
    {
     "data": {
      "image/png": "[encoded data removed]",
      "text/plain": [
       "<Figure size 432x288 with 1 Axes>"
      ]
     },
     "metadata": {
      "needs_background": "light"
     },
     "output_type": "display_data"
    }
   ],
   "source": [
    "df_pop_age_abs.plot(kind=\"line\")\n",
    "plt.ylabel(\"Number of People\")\n",
    "plt.title(\"Trend of Population Age\")\n",
    "plt.grid()\n",
    "plt.savefig('age1.png')"
   ]
  },
  {
   "cell_type": "code",
   "execution_count": 19,
   "metadata": {},
   "outputs": [
    {
     "data": {
      "text/html": [
       "<div>\n",
       "<style scoped>\n",
       "    .dataframe tbody tr th:only-of-type {\n",
       "        vertical-align: middle;\n",
       "    }\n",
       "\n",
       "    .dataframe tbody tr th {\n",
       "        vertical-align: top;\n",
       "    }\n",
       "\n",
       "    .dataframe thead th {\n",
       "        text-align: right;\n",
       "    }\n",
       "</style>\n",
       "<table border=\"1\" class=\"dataframe\">\n",
       "  <thead>\n",
       "    <tr style=\"text-align: right;\">\n",
       "      <th>Age</th>\n",
       "      <th>Aged 0-24</th>\n",
       "      <th>Aged 25-50</th>\n",
       "      <th>Aged 51-74</th>\n",
       "      <th>Aged 75+</th>\n",
       "    </tr>\n",
       "    <tr>\n",
       "      <th>Region</th>\n",
       "      <th></th>\n",
       "      <th></th>\n",
       "      <th></th>\n",
       "      <th></th>\n",
       "    </tr>\n",
       "  </thead>\n",
       "  <tbody>\n",
       "    <tr>\n",
       "      <th>England</th>\n",
       "      <td>30.017134</td>\n",
       "      <td>33.305526</td>\n",
       "      <td>28.523065</td>\n",
       "      <td>8.154276</td>\n",
       "    </tr>\n",
       "    <tr>\n",
       "      <th>Northern Ireland</th>\n",
       "      <td>32.107542</td>\n",
       "      <td>32.968090</td>\n",
       "      <td>27.729970</td>\n",
       "      <td>7.194398</td>\n",
       "    </tr>\n",
       "    <tr>\n",
       "      <th>Scotland</th>\n",
       "      <td>27.847821</td>\n",
       "      <td>32.931505</td>\n",
       "      <td>30.961071</td>\n",
       "      <td>8.259603</td>\n",
       "    </tr>\n",
       "    <tr>\n",
       "      <th>Wales</th>\n",
       "      <td>29.190400</td>\n",
       "      <td>30.499200</td>\n",
       "      <td>31.142400</td>\n",
       "      <td>9.168000</td>\n",
       "    </tr>\n",
       "  </tbody>\n",
       "</table>\n",
       "</div>"
      ],
      "text/plain": [
       "Age               Aged 0-24  Aged 25-50  Aged 51-74  Aged 75+\n",
       "Region                                                       \n",
       "England           30.017134   33.305526   28.523065  8.154276\n",
       "Northern Ireland  32.107542   32.968090   27.729970  7.194398\n",
       "Scotland          27.847821   32.931505   30.961071  8.259603\n",
       "Wales             29.190400   30.499200   31.142400  9.168000"
      ]
     },
     "execution_count": 19,
     "metadata": {},
     "output_type": "execute_result"
    }
   ],
   "source": [
    "df_pop_perc=pd.merge(\n",
    "    df_pop[df_pop.Year==2017].groupby(['Year','Age','Region']).sum().reset_index(),\n",
    "    df_pop[df_pop.Year==2017].groupby(['Year','Region']).sum().reset_index(),\n",
    "    on=['Year','Region'],\n",
    "    how='inner'\n",
    ")\n",
    "df_pop_perc['Percentage']=df_pop_perc.Value_x/df_pop_perc.Value_y*100\n",
    "df_pop_perc=df_pop_perc.pivot_table(\n",
    "    index='Region',columns='Age', values='Percentage',aggfunc='sum',margins=False)\n",
    "df_pop_perc"
   ]
  },
  {
   "cell_type": "code",
   "execution_count": 20,
   "metadata": {},
   "outputs": [
    {
     "data": {
      "image/png": "[encoded data removed]",
      "text/plain": [
       "<Figure size 432x288 with 1 Axes>"
      ]
     },
     "metadata": {
      "needs_background": "light"
     },
     "output_type": "display_data"
    }
   ],
   "source": [
    "df_pop_perc.plot(kind=\"bar\")\n",
    "plt.ylabel(\"% on Region population\")\n",
    "plt.title(\"Age Percentage by Region in 2017\")\n",
    "plt.grid()\n",
    "plt.legend(loc=\"lower right\")\n",
    "plt.savefig('age2.png')"
   ]
  }
 ],
 "metadata": {
  "kernelspec": {
   "display_name": "Python 3",
   "language": "python",
   "name": "python3"
  },
  "language_info": {
   "codemirror_mode": {
    "name": "ipython",
    "version": 3
   },
   "file_extension": ".py",
   "mimetype": "text/x-python",
   "name": "python",
   "nbconvert_exporter": "python",
   "pygments_lexer": "ipython3",
   "version": "3.7.1"
  }
 },
 "nbformat": 4,
 "nbformat_minor": 2
}
